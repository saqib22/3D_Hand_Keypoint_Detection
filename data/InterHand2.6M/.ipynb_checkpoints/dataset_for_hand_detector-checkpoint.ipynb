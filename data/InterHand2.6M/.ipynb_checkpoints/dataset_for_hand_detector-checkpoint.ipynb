{
 "cells": [
  {
   "cell_type": "code",
   "execution_count": 9,
   "metadata": {},
   "outputs": [],
   "source": [
    "import json\n",
    "import cv2\n",
    "from tqdm import tqdm\n",
    "from shutil import copy2"
   ]
  },
  {
   "cell_type": "code",
   "execution_count": 10,
   "metadata": {},
   "outputs": [],
   "source": [
    "with open(\"/home/ubuntu/3d-testing/InterHand2.6M/data/InterHand2.6M/annotations/human_annot/InterHand2.6M_test_data.json\", 'r') as j:\n",
    "     annot_json = json.loads(j.read())"
   ]
  },
  {
   "cell_type": "code",
   "execution_count": 11,
   "metadata": {},
   "outputs": [
    {
     "data": {
      "text/plain": [
       "dict_keys(['images', 'annotations'])"
      ]
     },
     "execution_count": 11,
     "metadata": {},
     "output_type": "execute_result"
    }
   ],
   "source": [
    "annot_json.keys()"
   ]
  },
  {
   "cell_type": "code",
   "execution_count": 12,
   "metadata": {},
   "outputs": [
    {
     "name": "stdout",
     "output_type": "stream",
     "text": [
      "66722\n",
      "66722\n"
     ]
    }
   ],
   "source": [
    "images = annot_json['images']\n",
    "annotations = annot_json['annotations']\n",
    "\n",
    "print(len(images))\n",
    "print(len(annotations))"
   ]
  },
  {
   "cell_type": "markdown",
   "metadata": {},
   "source": [
    "## Draw and test the human-annot test images bounding boxes"
   ]
  },
  {
   "cell_type": "code",
   "execution_count": 5,
   "metadata": {},
   "outputs": [
    {
     "name": "stderr",
     "output_type": "stream",
     "text": [
      "66722it [02:39, 418.38it/s]"
     ]
    },
    {
     "name": "stdout",
     "output_type": "stream",
     "text": [
      "Total Single Hand Images Annotated: 18399\n"
     ]
    },
    {
     "name": "stderr",
     "output_type": "stream",
     "text": [
      "\n"
     ]
    }
   ],
   "source": [
    "total_images_annotated = 0\n",
    "for i, image in tqdm(enumerate(images)):\n",
    "    img = cv2.imread(\"/home/ubuntu/3d-testing/InterHand2.6M/data/InterHand2.6M/images/test/\" + image['file_name'])\n",
    "    \n",
    "    if annotations[i]['hand_type'] != 'interacting':\n",
    "        box = annotations[i]['bbox']\n",
    "        img = cv2.rectangle(img, (int(box[0]), int(box[1])), (int(box[0]) + int(box[2]), int(box[1]) + int(box[3])), (255,0,0), 2)\n",
    "\n",
    "        cv2.imwrite(\"bboxs/\" + str(i) + \".jpg\", img)\n",
    "        \n",
    "        total_images_annotated += 1\n",
    "\n",
    "print (\"Total Single Hand Images Annotated: \" + str(total_images_annotated))"
   ]
  },
  {
   "cell_type": "markdown",
   "metadata": {},
   "source": [
    "## Create Images and Labels"
   ]
  },
  {
   "cell_type": "code",
   "execution_count": 13,
   "metadata": {},
   "outputs": [],
   "source": [
    "def transform_bbox(bndbox, height, width):\n",
    "    xmin, ymin, xmax, ymax = bndbox\n",
    "    \n",
    "    xmax = xmin + xmax\n",
    "    ymax = ymin + ymax\n",
    "\n",
    "    w0 = (xmax - xmin)\n",
    "    h0 = (ymax - ymin)\n",
    "    \n",
    "    x_center = (w0/2) + xmin\n",
    "    y_center = (h0/2) + ymin\n",
    "    \n",
    "    x = x_center / width\n",
    "    y = y_center / height\n",
    "    \n",
    "    w = w0 / width\n",
    "    h = h0 / height\n",
    "    \n",
    "#     annotation = str(0) + \" \" + str(x) + \" \" + str(y) + \" \" + str(w) + \" \" + str(h) + \"\\n\"\n",
    "    annotation = \"{} {} {} {} {}\\n\".format(str(0), str(x), str(y), str(w), str(h))\n",
    "    return annotation"
   ]
  },
  {
   "cell_type": "code",
   "execution_count": 14,
   "metadata": {},
   "outputs": [
    {
     "name": "stderr",
     "output_type": "stream",
     "text": [
      "2795it [00:06, 416.20it/s]\n"
     ]
    },
    {
     "ename": "KeyboardInterrupt",
     "evalue": "",
     "output_type": "error",
     "traceback": [
      "\u001b[0;31m---------------------------------------------------------------------------\u001b[0m",
      "\u001b[0;31mKeyboardInterrupt\u001b[0m                         Traceback (most recent call last)",
      "\u001b[0;32m<ipython-input-14-52001c8af665>\u001b[0m in \u001b[0;36m<module>\u001b[0;34m\u001b[0m\n\u001b[1;32m      1\u001b[0m \u001b[0mtotal_images_annotated\u001b[0m \u001b[0;34m=\u001b[0m \u001b[0;36m0\u001b[0m\u001b[0;34m\u001b[0m\u001b[0;34m\u001b[0m\u001b[0m\n\u001b[1;32m      2\u001b[0m \u001b[0;32mfor\u001b[0m \u001b[0mi\u001b[0m\u001b[0;34m,\u001b[0m \u001b[0mimage\u001b[0m \u001b[0;32min\u001b[0m \u001b[0mtqdm\u001b[0m\u001b[0;34m(\u001b[0m\u001b[0menumerate\u001b[0m\u001b[0;34m(\u001b[0m\u001b[0mimages\u001b[0m\u001b[0;34m)\u001b[0m\u001b[0;34m)\u001b[0m\u001b[0;34m:\u001b[0m\u001b[0;34m\u001b[0m\u001b[0;34m\u001b[0m\u001b[0m\n\u001b[0;32m----> 3\u001b[0;31m     \u001b[0mimg\u001b[0m \u001b[0;34m=\u001b[0m \u001b[0mcv2\u001b[0m\u001b[0;34m.\u001b[0m\u001b[0mimread\u001b[0m\u001b[0;34m(\u001b[0m\u001b[0;34m\"/home/ubuntu/3d-testing/InterHand2.6M/data/InterHand2.6M/images/test/\"\u001b[0m \u001b[0;34m+\u001b[0m \u001b[0mimage\u001b[0m\u001b[0;34m[\u001b[0m\u001b[0;34m'file_name'\u001b[0m\u001b[0;34m]\u001b[0m\u001b[0;34m)\u001b[0m\u001b[0;34m\u001b[0m\u001b[0;34m\u001b[0m\u001b[0m\n\u001b[0m\u001b[1;32m      4\u001b[0m \u001b[0;34m\u001b[0m\u001b[0m\n\u001b[1;32m      5\u001b[0m     \u001b[0;32mif\u001b[0m \u001b[0mannotations\u001b[0m\u001b[0;34m[\u001b[0m\u001b[0mi\u001b[0m\u001b[0;34m]\u001b[0m\u001b[0;34m[\u001b[0m\u001b[0;34m'hand_type'\u001b[0m\u001b[0;34m]\u001b[0m \u001b[0;34m!=\u001b[0m \u001b[0;34m'interacting'\u001b[0m\u001b[0;34m:\u001b[0m\u001b[0;34m\u001b[0m\u001b[0;34m\u001b[0m\u001b[0m\n",
      "\u001b[0;31mKeyboardInterrupt\u001b[0m: "
     ]
    }
   ],
   "source": [
    "total_images_annotated = 0\n",
    "for i, image in tqdm(enumerate(images)):\n",
    "    img = cv2.imread(\"/home/ubuntu/3d-testing/InterHand2.6M/data/InterHand2.6M/images/test/\" + image['file_name'])\n",
    "    \n",
    "    if annotations[i]['hand_type'] != 'interacting':\n",
    "        annot_file = open(\"/home/ubuntu/3d-testing/InterHand2.6M/data/InterHand2.6M/labels/\" + str(i) + \".txt\", \"w\")\n",
    "        \n",
    "        box = annotations[i]['bbox']\n",
    "        height, width = img.shape[:2]\n",
    "        \n",
    "        annotation = transform_bbox(box, height, width)\n",
    "        \n",
    "        copy2(\"/home/ubuntu/3d-testing/InterHand2.6M/data/InterHand2.6M/images/test/\" + image['file_name'],\n",
    "                \"/home/ubuntu/3d-testing/InterHand2.6M/data/InterHand2.6M/imgs/\" + str(i) + \".jpg\")\n",
    "        \n",
    "        annot_file.write(annotation)\n",
    "        \n",
    "        total_images_annotated += 1\n",
    "\n",
    "print (\"Total Single Hand Images Annotated: \" + str(total_images_annotated))"
   ]
  },
  {
   "cell_type": "code",
   "execution_count": null,
   "metadata": {},
   "outputs": [],
   "source": []
  }
 ],
 "metadata": {
  "kernelspec": {
   "display_name": "Python 3",
   "language": "python",
   "name": "python3"
  },
  "language_info": {
   "codemirror_mode": {
    "name": "ipython",
    "version": 3
   },
   "file_extension": ".py",
   "mimetype": "text/x-python",
   "name": "python",
   "nbconvert_exporter": "python",
   "pygments_lexer": "ipython3",
   "version": "3.7.4"
  }
 },
 "nbformat": 4,
 "nbformat_minor": 2
}
